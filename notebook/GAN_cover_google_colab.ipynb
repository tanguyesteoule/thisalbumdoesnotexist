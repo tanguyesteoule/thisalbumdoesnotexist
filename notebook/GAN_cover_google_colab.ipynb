{
 "cells": [
  {
   "cell_type": "markdown",
   "metadata": {},
   "source": [
    "### Train a GAN on album covers and generate new images\n",
    "This notebook needs to be run on google colab. Put your album covers in FOLDER_RAW"
   ]
  },
  {
   "cell_type": "code",
   "execution_count": null,
   "metadata": {
    "colab": {
     "base_uri": "https://localhost:8080/"
    },
    "executionInfo": {
     "elapsed": 24427,
     "status": "ok",
     "timestamp": 1639475405871,
     "user": {
      "displayName": "Tanguy Esteoule",
      "photoUrl": "https://lh3.googleusercontent.com/a-/AOh14GhdQYMoqLQ7Dcen7alsMjyHk_N7PDNStX7innCpUg=s64",
      "userId": "16083092165444146296"
     },
     "user_tz": -60
    },
    "id": "WaA_JKMiIgka",
    "outputId": "2621e191-e9ba-4a4e-c65e-ccd9fd92fa8f"
   },
   "outputs": [],
   "source": [
    "import os\n",
    "from google.colab import drive\n",
    "\n",
    "drive.mount('/content/drive')\n",
    "\n",
    "FOLDER_RAW = \"/content/drive/MyDrive/colab_data/data/raw_images/\"\n",
    "FOLDER_CLEAN = \"/content/drive/MyDrive/colab_data/data/clean_images/\"\n",
    "FOLDER_RESULTS = \"/content/drive/MyDrive/colab_data/results/\"\n",
    "FOLDER_GEN = \"/content/drive/MyDrive/colab_data/gen/\"\n",
    "\n",
    "FOLDER_GAN = '/content/drive/MyDrive/colab_data/stylegan2-ada-pytorch'\n",
    "PY_DATASET_TOOL =  os.path.join(FOLDER_GAN, 'dataset_tool.py')\n",
    "PY_TRAIN =  os.path.join(FOLDER_GAN, 'train.py')\n",
    "PY_GEN = os.path.join(FOLDER_GAN, 'generate.py')"
   ]
  },
  {
   "cell_type": "code",
   "execution_count": null,
   "metadata": {
    "colab": {
     "base_uri": "https://localhost:8080/"
    },
    "executionInfo": {
     "elapsed": 367,
     "status": "ok",
     "timestamp": 1639475407023,
     "user": {
      "displayName": "Tanguy Esteoule",
      "photoUrl": "https://lh3.googleusercontent.com/a-/AOh14GhdQYMoqLQ7Dcen7alsMjyHk_N7PDNStX7innCpUg=s64",
      "userId": "16083092165444146296"
     },
     "user_tz": -60
    },
    "id": "INENT2gLbj7P",
    "outputId": "6a6e071b-e171-498d-ddbc-701b91f04615"
   },
   "outputs": [],
   "source": [
    "# Show GPU used\n",
    "!nvidia-smi -L"
   ]
  },
  {
   "cell_type": "markdown",
   "metadata": {
    "id": "8WI9HiKV7dEB"
   },
   "source": [
    "### Preprocess data"
   ]
  },
  {
   "cell_type": "code",
   "execution_count": null,
   "metadata": {
    "id": "fbsv1Hjg8FSC"
   },
   "outputs": [],
   "source": [
    "# Only one time\n",
    "!git clone https://github.com/NVlabs/stylegan2-ada-pytorch.git \"{FOLDER_GAN}\"\n",
    "!python \"{PY_DATASET_TOOL}\" --source \"{FOLDER_RAW}\" --dest \"{FOLDER_CLEAN}\""
   ]
  },
  {
   "cell_type": "code",
   "execution_count": null,
   "metadata": {
    "colab": {
     "base_uri": "https://localhost:8080/"
    },
    "executionInfo": {
     "elapsed": 124957,
     "status": "ok",
     "timestamp": 1639475531974,
     "user": {
      "displayName": "Tanguy Esteoule",
      "photoUrl": "https://lh3.googleusercontent.com/a-/AOh14GhdQYMoqLQ7Dcen7alsMjyHk_N7PDNStX7innCpUg=s64",
      "userId": "16083092165444146296"
     },
     "user_tz": -60
    },
    "id": "GfZv74PPcOPD",
    "outputId": "bb7e8681-349c-4cae-8e58-3e0782459ece"
   },
   "outputs": [],
   "source": [
    "!pip install ninja opensimplex torch==1.7.1 torchvision==0.8.2"
   ]
  },
  {
   "cell_type": "code",
   "execution_count": null,
   "metadata": {
    "id": "hEeXyGDTZ0pD"
   },
   "outputs": [],
   "source": []
  },
  {
   "cell_type": "markdown",
   "metadata": {
    "id": "-ATgrLcE4upy"
   },
   "source": [
    "### Training"
   ]
  },
  {
   "cell_type": "code",
   "execution_count": null,
   "metadata": {
    "colab": {
     "base_uri": "https://localhost:8080/"
    },
    "id": "3LFdfX2oMO8o",
    "outputId": "ae357c47-e3c9-4076-98c2-255e7664719b"
   },
   "outputs": [],
   "source": [
    "# Train from my pretrained model\n",
    "resume_from = '/content/drive/MyDrive/colab_data/results/00015--auto1-bgcfnc-resumecustom/network-snapshot-000320.pkl'\n",
    "!python \"{PY_TRAIN}\" --outdir \"{FOLDER_RESULTS}\" --snap=5 --data=\"{FOLDER_CLEAN}\" --augpipe=bgcfnc --resume=\"{resume_from}\" --metrics none"
   ]
  },
  {
   "cell_type": "markdown",
   "metadata": {
    "id": "bDEX_fO04rWn"
   },
   "source": [
    "### Generation"
   ]
  },
  {
   "cell_type": "code",
   "execution_count": null,
   "metadata": {
    "colab": {
     "base_uri": "https://localhost:8080/"
    },
    "executionInfo": {
     "elapsed": 12648,
     "status": "ok",
     "timestamp": 1639120143684,
     "user": {
      "displayName": "Tanguy Esteoule",
      "photoUrl": "https://lh3.googleusercontent.com/a-/AOh14GhdQYMoqLQ7Dcen7alsMjyHk_N7PDNStX7innCpUg=s64",
      "userId": "16083092165444146296"
     },
     "user_tz": -60
    },
    "id": "OkwC67H7EPwq",
    "outputId": "b97c6b19-fc75-49f0-81ff-2c974b26c6d7"
   },
   "outputs": [],
   "source": [
    "pkl_file = resume_from\n",
    "!python {PY_GEN} --outdir={FOLDER_GEN} --trunc=0.5 --seeds=1000-1020 --network={pkl_file}"
   ]
  },
  {
   "cell_type": "code",
   "execution_count": null,
   "metadata": {
    "id": "fzaqq2-wK_My"
   },
   "outputs": [],
   "source": []
  }
 ],
 "metadata": {
  "accelerator": "GPU",
  "colab": {
   "authorship_tag": "ABX9TyN/CizeTeULLtPkgTYKAx+I",
   "background_execution": "on",
   "collapsed_sections": [],
   "machine_shape": "hm",
   "name": "gan_cover512.ipynb",
   "provenance": []
  },
  "kernelspec": {
   "display_name": "Python 3",
   "language": "python",
   "name": "python3"
  },
  "language_info": {
   "codemirror_mode": {
    "name": "ipython",
    "version": 3
   },
   "file_extension": ".py",
   "mimetype": "text/x-python",
   "name": "python",
   "nbconvert_exporter": "python",
   "pygments_lexer": "ipython3",
   "version": "3.7.3"
  }
 },
 "nbformat": 4,
 "nbformat_minor": 1
}
